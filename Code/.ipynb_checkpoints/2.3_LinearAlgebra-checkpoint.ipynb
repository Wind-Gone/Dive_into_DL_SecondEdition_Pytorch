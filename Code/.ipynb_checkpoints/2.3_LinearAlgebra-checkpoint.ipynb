{
 "cells": [
  {
   "cell_type": "markdown",
   "id": "gentle-american",
   "metadata": {},
   "source": [
    "## 2.3 线性代数"
   ]
  },
  {
   "cell_type": "markdown",
   "id": "improved-grass",
   "metadata": {},
   "source": [
    "### 2.3.1 标量"
   ]
  },
  {
   "cell_type": "code",
   "execution_count": null,
   "id": "engaging-adventure",
   "metadata": {},
   "outputs": [],
   "source": [
    "import torch\n",
    "\n",
    "x = torch.tensor([3.0])\n",
    "y = torch.tensor([2.0])\n",
    "\n",
    "x + y, x * y, x / y, x**y"
   ]
  }
 ],
 "metadata": {
  "kernelspec": {
   "display_name": "Python 3",
   "language": "python",
   "name": "python3"
  },
  "language_info": {
   "codemirror_mode": {
    "name": "ipython",
    "version": 3
   },
   "file_extension": ".py",
   "mimetype": "text/x-python",
   "name": "python",
   "nbconvert_exporter": "python",
   "pygments_lexer": "ipython3",
   "version": "3.8.0"
  }
 },
 "nbformat": 4,
 "nbformat_minor": 5
}
