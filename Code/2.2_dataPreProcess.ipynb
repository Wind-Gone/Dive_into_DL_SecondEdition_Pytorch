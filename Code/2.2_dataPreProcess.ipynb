{
 "cells": [
  {
   "cell_type": "markdown",
   "id": "inner-verse",
   "metadata": {},
   "source": [
    "## 2.2 数据预处理"
   ]
  },
  {
   "cell_type": "markdown",
   "id": "distant-lindsay",
   "metadata": {},
   "source": [
    "### 2.2.1. 读取数据集"
   ]
  },
  {
   "cell_type": "markdown",
   "id": "major-alarm",
   "metadata": {},
   "source": [
    "- 我们首先创建一个人工数据集house_tiny.csv"
   ]
  },
  {
   "cell_type": "code",
   "execution_count": 2,
   "id": "agricultural-restaurant",
   "metadata": {},
   "outputs": [],
   "source": [
    "import os\n",
    "\n",
    "os.makedirs(os.path.join('..', 'Data'), exist_ok=True)\n",
    "data_file = os.path.join('..', 'Data', 'house_tiny.csv')\n",
    "with open(data_file, 'w') as f:\n",
    "    f.write('NumRooms,Alley,Price\\n')  # 列名\n",
    "    f.write('NA,Pave,127500\\n')  # 每行表示一个数据样本\n",
    "    f.write('2,NA,106000\\n')\n",
    "    f.write('4,NA,178100\\n')\n",
    "    f.write('NA,NA,140000\\n')"
   ]
  },
  {
   "cell_type": "markdown",
   "id": "athletic-buddy",
   "metadata": {},
   "source": [
    "- read_csv 读取csv文件"
   ]
  },
  {
   "cell_type": "code",
   "execution_count": 4,
   "id": "exciting-butler",
   "metadata": {},
   "outputs": [
    {
     "name": "stdout",
     "output_type": "stream",
     "text": [
      "   NumRooms Alley   Price\n",
      "0       NaN  Pave  127500\n",
      "1       2.0   NaN  106000\n",
      "2       4.0   NaN  178100\n",
      "3       NaN   NaN  140000\n"
     ]
    }
   ],
   "source": [
    "import pandas as pd\n",
    "\n",
    "data = pd.read_csv(data_file)\n",
    "print(data)"
   ]
  },
  {
   "cell_type": "markdown",
   "id": "serial-referral",
   "metadata": {},
   "source": [
    "### 2.2.2. 处理缺失值"
   ]
  },
  {
   "cell_type": "markdown",
   "id": "graduate-input",
   "metadata": {},
   "source": [
    "- 通过位置索引iloc，我们将 data 分成 inputs 和 outputs，其中前者为 data的前两列，而后者为 data的最后一列\n",
    "- 对于 inputs 中缺少的的数值，我们调用fillna函数，用同一列的均值替换 “NaN” 项"
   ]
  },
  {
   "cell_type": "code",
   "execution_count": 7,
   "id": "nearby-arbor",
   "metadata": {},
   "outputs": [
    {
     "data": {
      "text/plain": [
       "(   NumRooms Alley\n",
       " 0       3.0  Pave\n",
       " 1       2.0   NaN\n",
       " 2       4.0   NaN\n",
       " 3       3.0   NaN,\n",
       " 0    127500\n",
       " 1    106000\n",
       " 2    178100\n",
       " 3    140000\n",
       " Name: Price, dtype: int64)"
      ]
     },
     "execution_count": 7,
     "metadata": {},
     "output_type": "execute_result"
    }
   ],
   "source": [
    "inputs, outputs = data.iloc[:, 0:2], data.iloc[:, 2]\n",
    "inputs = inputs.fillna(inputs.mean())\n",
    "inputs, outputs"
   ]
  },
  {
   "cell_type": "markdown",
   "id": "incorporate-brake",
   "metadata": {},
   "source": [
    "- get_dummies 是利用pandas实现one hot encode的方式\n",
    "- 由于 “Alley”列只接受两种类型的类别值 “Alley” 和 “NaN”，pandas 可以自动将此列转换为两列 “Alley_Pave” 和 “Alley_nan”。"
   ]
  },
  {
   "cell_type": "code",
   "execution_count": 11,
   "id": "developed-reviewer",
   "metadata": {},
   "outputs": [
    {
     "data": {
      "text/html": [
       "<div>\n",
       "<style scoped>\n",
       "    .dataframe tbody tr th:only-of-type {\n",
       "        vertical-align: middle;\n",
       "    }\n",
       "\n",
       "    .dataframe tbody tr th {\n",
       "        vertical-align: top;\n",
       "    }\n",
       "\n",
       "    .dataframe thead th {\n",
       "        text-align: right;\n",
       "    }\n",
       "</style>\n",
       "<table border=\"1\" class=\"dataframe\">\n",
       "  <thead>\n",
       "    <tr style=\"text-align: right;\">\n",
       "      <th></th>\n",
       "      <th>NumRooms</th>\n",
       "      <th>Alley_Pave</th>\n",
       "      <th>Alley_nan</th>\n",
       "    </tr>\n",
       "  </thead>\n",
       "  <tbody>\n",
       "    <tr>\n",
       "      <th>0</th>\n",
       "      <td>3.0</td>\n",
       "      <td>1</td>\n",
       "      <td>0</td>\n",
       "    </tr>\n",
       "    <tr>\n",
       "      <th>1</th>\n",
       "      <td>2.0</td>\n",
       "      <td>0</td>\n",
       "      <td>1</td>\n",
       "    </tr>\n",
       "    <tr>\n",
       "      <th>2</th>\n",
       "      <td>4.0</td>\n",
       "      <td>0</td>\n",
       "      <td>1</td>\n",
       "    </tr>\n",
       "    <tr>\n",
       "      <th>3</th>\n",
       "      <td>3.0</td>\n",
       "      <td>0</td>\n",
       "      <td>1</td>\n",
       "    </tr>\n",
       "  </tbody>\n",
       "</table>\n",
       "</div>"
      ],
      "text/plain": [
       "   NumRooms  Alley_Pave  Alley_nan\n",
       "0       3.0           1          0\n",
       "1       2.0           0          1\n",
       "2       4.0           0          1\n",
       "3       3.0           0          1"
      ]
     },
     "execution_count": 11,
     "metadata": {},
     "output_type": "execute_result"
    }
   ],
   "source": [
    "inputs = pd.get_dummies(inputs, dummy_na=True)\n",
    "inputs"
   ]
  },
  {
   "cell_type": "markdown",
   "id": "multiple-exclusion",
   "metadata": {},
   "source": [
    "### 2.2.3. 转换为张量格式"
   ]
  },
  {
   "cell_type": "markdown",
   "id": "basic-candy",
   "metadata": {},
   "source": [
    "**inputs 和 outputs 中的所有条目都是数值类型，它们可以转换为张量格式**"
   ]
  },
  {
   "cell_type": "code",
   "execution_count": 14,
   "id": "dominant-import",
   "metadata": {},
   "outputs": [
    {
     "data": {
      "text/plain": [
       "(tensor([[3., 1., 0.],\n",
       "         [2., 0., 1.],\n",
       "         [4., 0., 1.],\n",
       "         [3., 0., 1.]], dtype=torch.float64),\n",
       " tensor([127500, 106000, 178100, 140000]))"
      ]
     },
     "execution_count": 14,
     "metadata": {},
     "output_type": "execute_result"
    }
   ],
   "source": [
    "import torch\n",
    "\n",
    "X, y = torch.tensor(inputs.values), torch.tensor(outputs.values)\n",
    "X, y"
   ]
  },
  {
   "cell_type": "markdown",
   "id": "infectious-funeral",
   "metadata": {},
   "source": [
    "**Pandas去除nan值占百分比大于80的列**"
   ]
  },
  {
   "cell_type": "code",
   "execution_count": 27,
   "id": "suspected-nation",
   "metadata": {},
   "outputs": [
    {
     "name": "stdout",
     "output_type": "stream",
     "text": [
      "    Col_1  Col_2  Col_3  Col_4  Col_5\n",
      "0     1.0      2    NaN      4    NaN\n",
      "1     1.0      2    NaN      4    NaN\n",
      "2     1.0      2    NaN      4    NaN\n",
      "3     1.0      2    NaN      4    NaN\n",
      "4     1.0      2    NaN      4    NaN\n",
      "5     1.0      2    NaN      4    NaN\n",
      "6     1.0      2    NaN      4    NaN\n",
      "7     1.0      2    NaN      4    NaN\n",
      "8     1.0      2    NaN      4    NaN\n",
      "9     NaN      2    NaN      4    NaN\n",
      "10    NaN      2    NaN      4    5.0\n",
      "    Col_1  Col_2  Col_4\n",
      "0     1.0      2      4\n",
      "1     1.0      2      4\n",
      "2     1.0      2      4\n",
      "3     1.0      2      4\n",
      "4     1.0      2      4\n",
      "5     1.0      2      4\n",
      "6     1.0      2      4\n",
      "7     1.0      2      4\n",
      "8     1.0      2      4\n",
      "9     NaN      2      4\n",
      "10    NaN      2      4\n"
     ]
    }
   ],
   "source": [
    "import numpy as np\n",
    "import pandas as pd\n",
    "df = pd.DataFrame({\"Col_1\":[1]*9+[np.nan]*2, \"Col_2\":[2]*11, \"Col_3\":[np.nan]*11, \"Col_4\":[4]*11, \"Col_5\":[np.nan]*10+[5]}) # 一个包含两列nan值占比大于80%的\n",
    "print(df)\n",
    "def drop_col(df, cutoff=0.2): # 如果这一列中有80%以上的缺失值，那么就从df中删除这一列\n",
    "    n = len(df)\n",
    "    cnt = df.count() # 对列进行非nan值计数\n",
    "    cnt = cnt / n # 求出非nan值的百分比\n",
    "    # maxNan=  cnt if cnt > maxNan else maxNan\n",
    "    return df.loc[:, cnt[cnt >= cutoff].index] # 根据cnt记录的百分比，过滤出cnt百分百大于等于0.2的（也就是去掉nan值大于0.8的索引），然后对df进行选择，行所有，列为满足要求的cnt的索引。\n",
    "df = drop_col(df)\n",
    "print(df)"
   ]
  },
  {
   "cell_type": "markdown",
   "id": "extended-allah",
   "metadata": {},
   "source": [
    "**删除缺失值最多的列**"
   ]
  },
  {
   "cell_type": "code",
   "execution_count": 36,
   "id": "severe-literacy",
   "metadata": {},
   "outputs": [
    {
     "name": "stdout",
     "output_type": "stream",
     "text": [
      "    Col_1  Col_2  Col_3  Col_4  Col_5\n",
      "0     1.0      2    NaN      4    NaN\n",
      "1     1.0      2    NaN      4    NaN\n",
      "2     1.0      2    NaN      4    NaN\n",
      "3     1.0      2    NaN      4    NaN\n",
      "4     1.0      2    NaN      4    NaN\n",
      "5     1.0      2    NaN      4    NaN\n",
      "6     1.0      2    NaN      4    NaN\n",
      "7     1.0      2    NaN      4    NaN\n",
      "8     1.0      2    NaN      4    NaN\n",
      "9     NaN      2    NaN      4    NaN\n",
      "10    NaN      2    NaN      4    5.0\n"
     ]
    },
    {
     "data": {
      "text/plain": [
       "(Index(['Col_1', 'Col_2', 'Col_4', 'Col_5'], dtype='object'),\n",
       " Col_1     9\n",
       " Col_2    11\n",
       " Col_3     0\n",
       " Col_4    11\n",
       " Col_5     1\n",
       " dtype: int64,\n",
       "     Col_1  Col_2  Col_4  Col_5\n",
       " 0     1.0      2      4    NaN\n",
       " 1     1.0      2      4    NaN\n",
       " 2     1.0      2      4    NaN\n",
       " 3     1.0      2      4    NaN\n",
       " 4     1.0      2      4    NaN\n",
       " 5     1.0      2      4    NaN\n",
       " 6     1.0      2      4    NaN\n",
       " 7     1.0      2      4    NaN\n",
       " 8     1.0      2      4    NaN\n",
       " 9     NaN      2      4    NaN\n",
       " 10    NaN      2      4    5.0)"
      ]
     },
     "execution_count": 36,
     "metadata": {},
     "output_type": "execute_result"
    }
   ],
   "source": [
    "import numpy as np\n",
    "import pandas as pd\n",
    "df = pd.DataFrame({\"Col_1\":[1]*9+[np.nan]*2, \"Col_2\":[2]*11, \"Col_3\":[np.nan]*11, \"Col_4\":[4]*11, \"Col_5\":[np.nan]*10+[5]}) # 一个包含两列nan值占比大于90%的\n",
    "print(df)\n",
    "maxNan = 0.0\n",
    "for index, row in df.iteritems():\n",
    "    maxNan = df[index].count() if maxNan <= df[index].count() else maxNan\n",
    "cnt = df.count()\n",
    "n = len(df)\n",
    "df = df.loc[:, cnt[cnt > n - maxNan].index]\n",
    "cnt[cnt > n - maxNan].index, cnt, df"
   ]
  }
 ],
 "metadata": {
  "kernelspec": {
   "display_name": "Python 3",
   "language": "python",
   "name": "python3"
  },
  "language_info": {
   "codemirror_mode": {
    "name": "ipython",
    "version": 3
   },
   "file_extension": ".py",
   "mimetype": "text/x-python",
   "name": "python",
   "nbconvert_exporter": "python",
   "pygments_lexer": "ipython3",
   "version": "3.8.0"
  }
 },
 "nbformat": 4,
 "nbformat_minor": 5
}
