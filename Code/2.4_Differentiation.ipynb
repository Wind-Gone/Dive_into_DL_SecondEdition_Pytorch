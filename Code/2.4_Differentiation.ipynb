{
 "cells": [
  {
   "cell_type": "markdown",
   "id": "guilty-silence",
   "metadata": {},
   "source": [
    "## 2.4 微分"
   ]
  },
  {
   "cell_type": "markdown",
   "id": "incident-bracket",
   "metadata": {},
   "source": [
    "### 2.4.1 标量"
   ]
  },
  {
   "cell_type": "markdown",
   "id": "satisfactory-tennessee",
   "metadata": {},
   "source": [
    "**标量由只有一个元素的张量表示**"
   ]
  },
  {
   "cell_type": "code",
   "execution_count": null,
   "id": "velvet-teaching",
   "metadata": {},
   "outputs": [],
   "source": []
  }
 ],
 "metadata": {
  "kernelspec": {
   "display_name": "Python 3",
   "language": "python",
   "name": "python3"
  },
  "language_info": {
   "codemirror_mode": {
    "name": "ipython",
    "version": 3
   },
   "file_extension": ".py",
   "mimetype": "text/x-python",
   "name": "python",
   "nbconvert_exporter": "python",
   "pygments_lexer": "ipython3",
   "version": "3.8.0"
  }
 },
 "nbformat": 4,
 "nbformat_minor": 5
}
