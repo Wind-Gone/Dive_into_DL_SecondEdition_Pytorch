{
 "cells": [
  {
   "cell_type": "markdown",
   "id": "cardiac-cambridge",
   "metadata": {},
   "source": [
    "## 2.1 数据操作"
   ]
  },
  {
   "cell_type": "markdown",
   "id": "ranging-charger",
   "metadata": {},
   "source": [
    "**导入torch，查看其版本**"
   ]
  },
  {
   "cell_type": "code",
   "execution_count": 3,
   "id": "exact-domain",
   "metadata": {},
   "outputs": [
    {
     "data": {
      "text/plain": [
       "'1.8.1+cpu'"
      ]
     },
     "execution_count": 3,
     "metadata": {},
     "output_type": "execute_result"
    }
   ],
   "source": [
    "import torch\n",
    "torch.__version__"
   ]
  },
  {
   "cell_type": "markdown",
   "id": "greater-flower",
   "metadata": {},
   "source": [
    "### 2.1.1 创建Tensor(张量)"
   ]
  },
  {
   "cell_type": "markdown",
   "id": "alternative-iceland",
   "metadata": {},
   "source": [
    "- 用arange(可不是arrange)创建一个行向量x，默认是浮点数，即torch.FlaotTensor的简写\n",
    "- 张量中的每个值都称为张量的元素（element）\n",
    "- 单行张量即寻常意义上的向量"
   ]
  },
  {
   "cell_type": "code",
   "execution_count": 34,
   "id": "inner-taste",
   "metadata": {},
   "outputs": [
    {
     "data": {
      "text/plain": [
       "tensor([ 0,  1,  2,  3,  4,  5,  6,  7,  8,  9, 10, 11])"
      ]
     },
     "execution_count": 34,
     "metadata": {},
     "output_type": "execute_result"
    }
   ],
   "source": [
    "x = torch.arange(12)\n",
    "x"
   ]
  },
  {
   "cell_type": "markdown",
   "id": "innocent-february",
   "metadata": {},
   "source": [
    "**通过张量的shape属性或调用size函数访问张量形状**"
   ]
  },
  {
   "cell_type": "code",
   "execution_count": 37,
   "id": "related-complaint",
   "metadata": {},
   "outputs": [
    {
     "name": "stdout",
     "output_type": "stream",
     "text": [
      "torch.Size([12])\n",
      "torch.Size([12])\n"
     ]
    }
   ],
   "source": [
    "print(x.shape)\n",
    "print(x.size())"
   ]
  },
  {
   "cell_type": "markdown",
   "id": "radio-terminal",
   "metadata": {},
   "source": [
    "**获悉张量中元素的总数，即其size**"
   ]
  },
  {
   "cell_type": "code",
   "execution_count": 38,
   "id": "ecological-chinese",
   "metadata": {},
   "outputs": [
    {
     "name": "stdout",
     "output_type": "stream",
     "text": [
      "12\n"
     ]
    }
   ],
   "source": [
    "print(x.numel())"
   ]
  },
  {
   "cell_type": "markdown",
   "id": "harmful-architect",
   "metadata": {},
   "source": [
    "- 重置张量的形状，而不改变其数值大小\n",
    "- 无需手动指定每个维度，因为某个维度，如高度得知后，宽度可以隐式自动得出\n",
    "- 自动推断的维度可以用 -1 指代"
   ]
  },
  {
   "cell_type": "code",
   "execution_count": 39,
   "id": "engaged-opinion",
   "metadata": {},
   "outputs": [
    {
     "data": {
      "text/plain": [
       "tensor([[ 0,  1,  2,  3],\n",
       "        [ 4,  5,  6,  7],\n",
       "        [ 8,  9, 10, 11]])"
      ]
     },
     "execution_count": 39,
     "metadata": {},
     "output_type": "execute_result"
    }
   ],
   "source": [
    "x.reshape(3,-1)"
   ]
  },
  {
   "cell_type": "markdown",
   "id": "aquatic-bangladesh",
   "metadata": {},
   "source": [
    "**设置一个形状为(2,3,4)，数值全为 0 的Long型张量y**"
   ]
  },
  {
   "cell_type": "code",
   "execution_count": 40,
   "id": "fabulous-annual",
   "metadata": {},
   "outputs": [
    {
     "name": "stdout",
     "output_type": "stream",
     "text": [
      "tensor([[[0, 0, 0, 0],\n",
      "         [0, 0, 0, 0],\n",
      "         [0, 0, 0, 0]],\n",
      "\n",
      "        [[0, 0, 0, 0],\n",
      "         [0, 0, 0, 0],\n",
      "         [0, 0, 0, 0]]])\n"
     ]
    },
    {
     "data": {
      "text/plain": [
       "torch.int64"
      ]
     },
     "execution_count": 40,
     "metadata": {},
     "output_type": "execute_result"
    }
   ],
   "source": [
    "y = torch.zeros((2,3,4),dtype=torch.long)\n",
    "print(y)\n",
    "y.dtype"
   ]
  },
  {
   "cell_type": "markdown",
   "id": "harmful-coverage",
   "metadata": {},
   "source": [
    "**注意到这里的参数可以是list，也可以是tuple**"
   ]
  },
  {
   "cell_type": "code",
   "execution_count": 41,
   "id": "convinced-hormone",
   "metadata": {},
   "outputs": [
    {
     "data": {
      "text/plain": [
       "tensor([[[0., 0., 0., 0.],\n",
       "         [0., 0., 0., 0.],\n",
       "         [0., 0., 0., 0.]],\n",
       "\n",
       "        [[0., 0., 0., 0.],\n",
       "         [0., 0., 0., 0.],\n",
       "         [0., 0., 0., 0.]]])"
      ]
     },
     "execution_count": 41,
     "metadata": {},
     "output_type": "execute_result"
    }
   ],
   "source": [
    "y = torch.zeros([2,3,4])\n",
    "y"
   ]
  },
  {
   "cell_type": "markdown",
   "id": "australian-exception",
   "metadata": {},
   "source": [
    "**设置一个形状为(2,3,4)，数值全为1 的Long型张量y**"
   ]
  },
  {
   "cell_type": "code",
   "execution_count": 42,
   "id": "jewish-weight",
   "metadata": {},
   "outputs": [
    {
     "data": {
      "text/plain": [
       "tensor([[[1., 1., 1., 1.],\n",
       "         [1., 1., 1., 1.],\n",
       "         [1., 1., 1., 1.]],\n",
       "\n",
       "        [[1., 1., 1., 1.],\n",
       "         [1., 1., 1., 1.],\n",
       "         [1., 1., 1., 1.]]])"
      ]
     },
     "execution_count": 42,
     "metadata": {},
     "output_type": "execute_result"
    }
   ],
   "source": [
    "y = torch.ones([2,3,4])\n",
    "y"
   ]
  },
  {
   "cell_type": "markdown",
   "id": "conscious-climb",
   "metadata": {},
   "source": [
    "- 创建一个3x4的随机初始化的`Tensor`\n",
    "- 其中的每个element都从均值为0、标准差为1的标准高斯（正态）分布中随机采样。"
   ]
  },
  {
   "cell_type": "code",
   "execution_count": 43,
   "id": "contained-pregnancy",
   "metadata": {},
   "outputs": [
    {
     "data": {
      "text/plain": [
       "tensor([[-0.7911, -0.0209, -0.7185,  0.5186],\n",
       "        [-1.3125,  0.1920,  0.5428, -2.2188],\n",
       "        [ 0.2590, -1.0297, -0.5008,  0.2734]])"
      ]
     },
     "execution_count": 43,
     "metadata": {},
     "output_type": "execute_result"
    }
   ],
   "source": [
    "torch.randn(3,4)"
   ]
  },
  {
   "cell_type": "markdown",
   "id": "accepting-assist",
   "metadata": {},
   "source": [
    "- 提供包含数值的 Python 列表（或嵌套列表）来为所需张量中的每个元素赋予确定值。\n",
    "- 最外层的列表对应于轴 0，内层的列表对应于轴 1,直接根据数据创建:"
   ]
  },
  {
   "cell_type": "code",
   "execution_count": 44,
   "id": "soviet-degree",
   "metadata": {},
   "outputs": [
    {
     "data": {
      "text/plain": [
       "tensor([[2, 1, 4, 3],\n",
       "        [1, 2, 3, 4],\n",
       "        [4, 3, 2, 1]])"
      ]
     },
     "execution_count": 44,
     "metadata": {},
     "output_type": "execute_result"
    }
   ],
   "source": [
    "torch.tensor([[2, 1, 4, 3], [1, 2, 3, 4], [4, 3, 2, 1]])"
   ]
  },
  {
   "cell_type": "code",
   "execution_count": 45,
   "id": "increasing-commerce",
   "metadata": {},
   "outputs": [
    {
     "data": {
      "text/plain": [
       "tensor([4, 3])"
      ]
     },
     "execution_count": 45,
     "metadata": {},
     "output_type": "execute_result"
    }
   ],
   "source": [
    "torch.tensor([4,3])"
   ]
  },
  {
   "cell_type": "markdown",
   "id": "weird-grave",
   "metadata": {},
   "source": [
    "**还可以通过现有的`Tensor`来创建，此方法会默认重用输入`Tensor`的一些属性，例如数据类型，除非自定义数据类型**"
   ]
  },
  {
   "cell_type": "code",
   "execution_count": 46,
   "id": "preceding-lightweight",
   "metadata": {},
   "outputs": [
    {
     "name": "stdout",
     "output_type": "stream",
     "text": [
      "tensor([[1., 1., 1.],\n",
      "        [1., 1., 1.],\n",
      "        [1., 1., 1.],\n",
      "        [1., 1., 1.],\n",
      "        [1., 1., 1.]], dtype=torch.float64)\n",
      "tensor([[-0.9181, -0.0404,  0.2881],\n",
      "        [-0.0075, -0.9145, -1.0886],\n",
      "        [-0.2666,  0.1894, -0.2190],\n",
      "        [ 2.0576, -0.0354,  0.0627],\n",
      "        [-0.7663,  1.0993,  2.7565]])\n"
     ]
    }
   ],
   "source": [
    "x = x.new_ones(5, 3, dtype=torch.float64)      # 返回的tensor默认具有相同的torch.dtype和torch.device\n",
    "print(x)\n",
    "\n",
    "x = torch.randn_like(x, dtype=torch.float)    # 指定新的数据类型,但其结构保持一致\n",
    "print(x)   "
   ]
  },
  {
   "cell_type": "markdown",
   "id": "humanitarian-contract",
   "metadata": {},
   "source": [
    "## 2.1.2 运算"
   ]
  },
  {
   "cell_type": "markdown",
   "id": "amino-monitor",
   "metadata": {},
   "source": [
    "### 算术运算"
   ]
  },
  {
   "cell_type": "markdown",
   "id": "conceptual-province",
   "metadata": {},
   "source": [
    "#### 加减乘除幂次"
   ]
  },
  {
   "cell_type": "code",
   "execution_count": 56,
   "id": "circular-crisis",
   "metadata": {},
   "outputs": [
    {
     "data": {
      "text/plain": [
       "(tensor([ 3.,  4.,  6., 10.], dtype=torch.float64),\n",
       " tensor([-1.,  0.,  2.,  6.], dtype=torch.float64),\n",
       " tensor([ 2.,  4.,  8., 16.], dtype=torch.float64),\n",
       " tensor([0.5000, 1.0000, 2.0000, 4.0000], dtype=torch.float64),\n",
       " tensor([ 1.,  4., 16., 64.], dtype=torch.float64))"
      ]
     },
     "execution_count": 56,
     "metadata": {},
     "output_type": "execute_result"
    }
   ],
   "source": [
    "x = torch.tensor([1.0, 2, 4, 8])\n",
    "y = torch.tensor([2, 2, 2, 2], dtype = float)\n",
    "x + y, x - y, x * y, x / y, x**y  # **运算符是求幂运算"
   ]
  },
  {
   "cell_type": "code",
   "execution_count": 57,
   "id": "smaller-upset",
   "metadata": {},
   "outputs": [
    {
     "data": {
      "text/plain": [
       "tensor([2.7183e+00, 7.3891e+00, 5.4598e+01, 2.9810e+03])"
      ]
     },
     "execution_count": 57,
     "metadata": {},
     "output_type": "execute_result"
    }
   ],
   "source": [
    "torch.exp(x) # 对x张量上的每一个数值进行e的幂次计算"
   ]
  },
  {
   "cell_type": "markdown",
   "id": "attempted-machinery",
   "metadata": {},
   "source": [
    "#### 加法操作的额外表达"
   ]
  },
  {
   "cell_type": "code",
   "execution_count": 58,
   "id": "criminal-valley",
   "metadata": {},
   "outputs": [
    {
     "data": {
      "text/plain": [
       "tensor([ 3.,  4.,  6., 10.])"
      ]
     },
     "execution_count": 58,
     "metadata": {},
     "output_type": "execute_result"
    }
   ],
   "source": [
    "res = torch.empty(4)\n",
    "torch.add(x, y, out = res)\n",
    "res"
   ]
  },
  {
   "cell_type": "markdown",
   "id": "jewish-description",
   "metadata": {},
   "source": [
    "**直接在原数据上修改**"
   ]
  },
  {
   "cell_type": "code",
   "execution_count": 59,
   "id": "assigned-service",
   "metadata": {},
   "outputs": [
    {
     "data": {
      "text/plain": [
       "tensor([ 3.,  4.,  6., 10.], dtype=torch.float64)"
      ]
     },
     "execution_count": 59,
     "metadata": {},
     "output_type": "execute_result"
    }
   ],
   "source": [
    "y.add_(x)\n",
    "y"
   ]
  },
  {
   "cell_type": "markdown",
   "id": "neutral-selling",
   "metadata": {},
   "source": [
    "### 索引\n",
    "我们还可以使用类似NumPy的索引操作来访问`Tensor`的一部分，需要注意的是：**索引出来的结果与原数据共享内存，也即修改一个，另一个会跟着修改。** "
   ]
  },
  {
   "cell_type": "code",
   "execution_count": 66,
   "id": "official-bidding",
   "metadata": {},
   "outputs": [
    {
     "name": "stdout",
     "output_type": "stream",
     "text": [
      "tensor([ 3.,  4.,  6., 10.]) tensor([ 3.,  4.,  6., 10.])\n"
     ]
    },
    {
     "data": {
      "text/plain": [
       "(tensor([ 4.,  5.,  7., 11.]), tensor([ 4.,  5.,  7., 11.]))"
      ]
     },
     "execution_count": 66,
     "metadata": {},
     "output_type": "execute_result"
    }
   ],
   "source": [
    "print(x, y)\n",
    "y = x[:]\n",
    "y += 1\n",
    "y, x[:] # 源tensor也被改了"
   ]
  },
  {
   "cell_type": "markdown",
   "id": "integral-declaration",
   "metadata": {},
   "source": [
    "如果不想共享内存， 需要先用clone操作创建一个副本再操作"
   ]
  },
  {
   "cell_type": "code",
   "execution_count": 69,
   "id": "hourly-midnight",
   "metadata": {},
   "outputs": [
    {
     "name": "stdout",
     "output_type": "stream",
     "text": [
      "tensor([ 4.,  5.,  7., 11.]) tensor([ 5.,  6.,  8., 12.])\n"
     ]
    },
    {
     "data": {
      "text/plain": [
       "(tensor([ 5.,  6.,  8., 12.]), tensor([ 4.,  5.,  7., 11.]))"
      ]
     },
     "execution_count": 69,
     "metadata": {},
     "output_type": "execute_result"
    }
   ],
   "source": [
    "print(x, y)\n",
    "y = x.clone()[:]\n",
    "y += 1\n",
    "y, x[:] "
   ]
  },
  {
   "cell_type": "markdown",
   "id": "neural-brighton",
   "metadata": {},
   "source": [
    "### 线性代数运算"
   ]
  },
  {
   "cell_type": "markdown",
   "id": "productive-current",
   "metadata": {},
   "source": [
    "#### 连结"
   ]
  },
  {
   "cell_type": "markdown",
   "id": "musical-steam",
   "metadata": {},
   "source": [
    "- 可以把多个张量连结在一起，把它们端对端地叠起来形成一个更大的张量\n",
    "- 只需要提供张量列表，并给出沿哪个轴连结\n",
    "- 沿行连接（轴-0，形状的第一个元素），按列连接（轴-1，形状的第二个元素）\n",
    "- 下例中：\n",
    "    - 第一个输出张量的轴-0长度 ( 6 ) 是两个输入张量轴-0长度的总和 ( 3+3 )；\n",
    "    - 第二个输出张量的轴-1长度 ( 8 ) 是两个输入张量轴-1长度的总和 ( 4+4 )"
   ]
  },
  {
   "cell_type": "code",
   "execution_count": 60,
   "id": "tamil-newton",
   "metadata": {},
   "outputs": [
    {
     "data": {
      "text/plain": [
       "(tensor([[ 0.,  1.,  2.,  3.],\n",
       "         [ 4.,  5.,  6.,  7.],\n",
       "         [ 8.,  9., 10., 11.]]),\n",
       " tensor([[2., 1., 4., 3.],\n",
       "         [1., 2., 3., 4.],\n",
       "         [4., 3., 2., 1.]]),\n",
       " tensor([[ 0.,  1.,  2.,  3.],\n",
       "         [ 4.,  5.,  6.,  7.],\n",
       "         [ 8.,  9., 10., 11.],\n",
       "         [ 2.,  1.,  4.,  3.],\n",
       "         [ 1.,  2.,  3.,  4.],\n",
       "         [ 4.,  3.,  2.,  1.]]),\n",
       " tensor([[ 0.,  1.,  2.,  3.,  2.,  1.,  4.,  3.],\n",
       "         [ 4.,  5.,  6.,  7.,  1.,  2.,  3.,  4.],\n",
       "         [ 8.,  9., 10., 11.,  4.,  3.,  2.,  1.]]))"
      ]
     },
     "execution_count": 60,
     "metadata": {},
     "output_type": "execute_result"
    }
   ],
   "source": [
    "X = torch.arange(12, dtype=torch.float32).reshape((3, 4))\n",
    "Y = torch.tensor([[2.0, 1, 4, 3], [1, 2, 3, 4], [4, 3, 2, 1]])\n",
    "X, Y, torch.cat((X, Y), dim=0), torch.cat((X, Y), dim=1)"
   ]
  },
  {
   "cell_type": "markdown",
   "id": "potential-equipment",
   "metadata": {},
   "source": [
    "#### 逻辑运算符表示"
   ]
  },
  {
   "cell_type": "code",
   "execution_count": 61,
   "id": "mediterranean-maintenance",
   "metadata": {},
   "outputs": [
    {
     "data": {
      "text/plain": [
       "tensor([[False,  True, False,  True],\n",
       "        [False, False, False, False],\n",
       "        [False, False, False, False]])"
      ]
     },
     "execution_count": 61,
     "metadata": {},
     "output_type": "execute_result"
    }
   ],
   "source": [
    "X == Y"
   ]
  },
  {
   "cell_type": "markdown",
   "id": "alleged-sandwich",
   "metadata": {},
   "source": [
    "#### 求和"
   ]
  },
  {
   "cell_type": "markdown",
   "id": "accomplished-classification",
   "metadata": {},
   "source": [
    "**对张量中的所有元素进行求和会产生一个只有一个元素的张量**"
   ]
  },
  {
   "cell_type": "code",
   "execution_count": 62,
   "id": "toxic-anniversary",
   "metadata": {},
   "outputs": [
    {
     "data": {
      "text/plain": [
       "tensor(66.)"
      ]
     },
     "execution_count": 62,
     "metadata": {},
     "output_type": "execute_result"
    }
   ],
   "source": [
    "X.sum()"
   ]
  },
  {
   "cell_type": "markdown",
   "id": "established-polyester",
   "metadata": {},
   "source": [
    "## 2.1.3 广播机制"
   ]
  },
  {
   "cell_type": "markdown",
   "id": "refined-leeds",
   "metadata": {},
   "source": [
    "- Broadcasting即广播，是NumPy里的一种机制，它通常发生在两个具有不同shape数组做加减运算时\n",
    "- 广播是从内向外的扩展元素的，所以需要将两个元素从后往前对比\n",
    "- 可以广播的常见情形\n",
    "    1. 两个数组各维度大小从后往前比对均一致\n",
    "    2. 两个数组存在一些维度大小不相等时，有一个数组的该不相等维度大小为1\n",
    " https://zhuanlan.zhihu.com/p/145719622"
   ]
  },
  {
   "cell_type": "code",
   "execution_count": 70,
   "id": "protecting-metro",
   "metadata": {},
   "outputs": [
    {
     "data": {
      "text/plain": [
       "(tensor([[0],\n",
       "         [1],\n",
       "         [2]]),\n",
       " tensor([[0, 1]]))"
      ]
     },
     "execution_count": 70,
     "metadata": {},
     "output_type": "execute_result"
    }
   ],
   "source": [
    "a = torch.arange(3).reshape((3, 1))\n",
    "b = torch.arange(2).reshape((1, 2))\n",
    "a, b"
   ]
  },
  {
   "cell_type": "code",
   "execution_count": 71,
   "id": "opened-heath",
   "metadata": {},
   "outputs": [
    {
     "data": {
      "text/plain": [
       "tensor([[0, 1],\n",
       "        [1, 2],\n",
       "        [2, 3]])"
      ]
     },
     "execution_count": 71,
     "metadata": {},
     "output_type": "execute_result"
    }
   ],
   "source": [
    "a + b"
   ]
  },
  {
   "cell_type": "markdown",
   "id": "thirty-heart",
   "metadata": {},
   "source": [
    "## 2.1.4 索引和切片"
   ]
  },
  {
   "cell_type": "markdown",
   "id": "harmful-advancement",
   "metadata": {},
   "source": [
    "- 规则与Python语法一致\n",
    "- 可以用 [-1] 选择最后一个元素，可以用 [1:3] 选择第二个和第三个元素"
   ]
  },
  {
   "cell_type": "code",
   "execution_count": 72,
   "id": "organized-buying",
   "metadata": {},
   "outputs": [
    {
     "data": {
      "text/plain": [
       "(tensor([ 8.,  9., 10., 11.]),\n",
       " tensor([[ 4.,  5.,  6.,  7.],\n",
       "         [ 8.,  9., 10., 11.]]))"
      ]
     },
     "execution_count": 72,
     "metadata": {},
     "output_type": "execute_result"
    }
   ],
   "source": [
    "X[-1], X[1:3]"
   ]
  },
  {
   "cell_type": "markdown",
   "id": "special-norfolk",
   "metadata": {},
   "source": [
    "**可以通过指定索引来将元素写入矩阵**"
   ]
  },
  {
   "cell_type": "code",
   "execution_count": 73,
   "id": "mexican-enhancement",
   "metadata": {},
   "outputs": [
    {
     "data": {
      "text/plain": [
       "tensor([[ 0.,  1.,  2.,  3.],\n",
       "        [ 4.,  5.,  9.,  7.],\n",
       "        [ 8.,  9., 10., 11.]])"
      ]
     },
     "execution_count": 73,
     "metadata": {},
     "output_type": "execute_result"
    }
   ],
   "source": [
    "X[1, 2] = 9\n",
    "X"
   ]
  },
  {
   "cell_type": "markdown",
   "id": "paperback-wedding",
   "metadata": {},
   "source": [
    "- 如果我们想为多个元素赋值相同的值，我们只需要索引所有元素，然后为它们赋值\n",
    "- 例如，[0:2, :] 访问第1行和第2行，其中 “:” 代表沿轴 1（列）的所有元素"
   ]
  },
  {
   "cell_type": "code",
   "execution_count": 74,
   "id": "played-boston",
   "metadata": {},
   "outputs": [
    {
     "data": {
      "text/plain": [
       "tensor([[12., 12., 12., 12.],\n",
       "        [12., 12., 12., 12.],\n",
       "        [ 8.,  9., 10., 11.]])"
      ]
     },
     "execution_count": 74,
     "metadata": {},
     "output_type": "execute_result"
    }
   ],
   "source": [
    "X[0:2, :] = 12\n",
    "X"
   ]
  },
  {
   "cell_type": "markdown",
   "id": "progressive-deficit",
   "metadata": {},
   "source": [
    "## 2.1.5. 节省内存"
   ]
  },
  {
   "cell_type": "markdown",
   "id": "japanese-iceland",
   "metadata": {},
   "source": [
    "- 运行一些操作可能会导致为新结果分配内存。例如，如果我们用 Y = X + Y，我们将取消引用 Y 指向的张量，而是指向新分配的内存处的张量。\n",
    "- Python 的 id() 函数演示了这一点，它给我们提供了内存中引用对象的确切地址。"
   ]
  },
  {
   "cell_type": "code",
   "execution_count": 75,
   "id": "discrete-entrance",
   "metadata": {},
   "outputs": [
    {
     "data": {
      "text/plain": [
       "False"
      ]
     },
     "execution_count": 75,
     "metadata": {},
     "output_type": "execute_result"
    }
   ],
   "source": [
    "before = id(Y)\n",
    "Y = Y + X\n",
    "id(Y) == before"
   ]
  },
  {
   "cell_type": "markdown",
   "id": "exotic-multiple",
   "metadata": {},
   "source": [
    "我们可以使用 X[:] = X + Y 或 X += Y 来减少操作的内存开销"
   ]
  },
  {
   "cell_type": "code",
   "execution_count": 78,
   "id": "structural-priest",
   "metadata": {},
   "outputs": [
    {
     "name": "stdout",
     "output_type": "stream",
     "text": [
      "id(Z): 2165458103040\n",
      "id(Z): 2165458103040\n"
     ]
    }
   ],
   "source": [
    "Z = torch.zeros_like(Y)\n",
    "print('id(Z):', id(Z))\n",
    "Z[:] = X + Y\n",
    "print('id(Z):', id(Z))"
   ]
  },
  {
   "cell_type": "code",
   "execution_count": 79,
   "id": "running-palmer",
   "metadata": {},
   "outputs": [
    {
     "data": {
      "text/plain": [
       "True"
      ]
     },
     "execution_count": 79,
     "metadata": {},
     "output_type": "execute_result"
    }
   ],
   "source": [
    "before = id(X)\n",
    "X += Y\n",
    "id(X) == before"
   ]
  },
  {
   "cell_type": "markdown",
   "id": "front-assessment",
   "metadata": {},
   "source": [
    "## 2.1.6. 转换为其他 Python 对象"
   ]
  },
  {
   "cell_type": "markdown",
   "id": "romantic-building",
   "metadata": {},
   "source": [
    "numpy()和from_numpy()这两个函数产生的Tensor和NumPy array实际是使用的相同的内存，改变其中一个时另一个也会改变"
   ]
  },
  {
   "cell_type": "code",
   "execution_count": 80,
   "id": "expanded-netherlands",
   "metadata": {},
   "outputs": [
    {
     "data": {
      "text/plain": [
       "(numpy.ndarray, torch.Tensor)"
      ]
     },
     "execution_count": 80,
     "metadata": {},
     "output_type": "execute_result"
    }
   ],
   "source": [
    "A = X.numpy()\n",
    "B = torch.tensor(A)\n",
    "type(A), type(B)"
   ]
  },
  {
   "cell_type": "markdown",
   "id": "legitimate-reminder",
   "metadata": {},
   "source": [
    "要将大小为1的张量转换为 Python 标量，我们可以调用 item 函数或 Python 的内置函数"
   ]
  },
  {
   "cell_type": "code",
   "execution_count": 81,
   "id": "interracial-dividend",
   "metadata": {},
   "outputs": [
    {
     "data": {
      "text/plain": [
       "(tensor([3.5000]), 3.5, 3.5, 3)"
      ]
     },
     "execution_count": 81,
     "metadata": {},
     "output_type": "execute_result"
    }
   ],
   "source": [
    "a = torch.tensor([3.5])\n",
    "a, a.item(), float(a), int(a)"
   ]
  }
 ],
 "metadata": {
  "kernelspec": {
   "display_name": "Python 3",
   "language": "python",
   "name": "python3"
  },
  "language_info": {
   "codemirror_mode": {
    "name": "ipython",
    "version": 3
   },
   "file_extension": ".py",
   "mimetype": "text/x-python",
   "name": "python",
   "nbconvert_exporter": "python",
   "pygments_lexer": "ipython3",
   "version": "3.8.0"
  }
 },
 "nbformat": 4,
 "nbformat_minor": 5
}
